{
  "nbformat": 4,
  "nbformat_minor": 0,
  "metadata": {
    "colab": {
      "name": "Assignment7.ipynb",
      "provenance": [],
      "collapsed_sections": [],
      "authorship_tag": "ABX9TyNl/naoaYAWdSXSy0UNQ/wS",
      "include_colab_link": true
    },
    "kernelspec": {
      "name": "python3",
      "display_name": "Python 3"
    }
  },
  "cells": [
    {
      "cell_type": "markdown",
      "metadata": {
        "id": "view-in-github",
        "colab_type": "text"
      },
      "source": [
        "<a href=\"https://colab.research.google.com/github/sudha-tammina/Python-Assignment2-LetsUpgrade/blob/master/Assignment7.ipynb\" target=\"_parent\"><img src=\"https://colab.research.google.com/assets/colab-badge.svg\" alt=\"Open In Colab\"/></a>"
      ]
    },
    {
      "cell_type": "code",
      "metadata": {
        "id": "qxpDRQUY4WAH",
        "colab_type": "code",
        "colab": {
          "base_uri": "https://localhost:8080/",
          "height": 54
        },
        "outputId": "30fcf735-371a-4c4b-e75d-3dce0e8cd000"
      },
      "source": [
        " port1={ 21: 'ftp', 22: 'ssh', 23: 'telnet', 80: 'http'}\n",
        "port2={}\n",
        "for k,v in port1.items():\n",
        "    port2[v]=k\n",
        " \n",
        "print(port2)"
      ],
      "execution_count": 1,
      "outputs": [
        {
          "output_type": "stream",
          "text": [
            "{'ftp': 21, 'ssh': 22, 'telnet': 23, 'http': 80}\n"
          ],
          "name": "stdout"
        }
      ]
    },
    {
      "cell_type": "code",
      "metadata": {
        "id": "dv5i374W5hXr",
        "colab_type": "code",
        "colab": {
          "base_uri": "https://localhost:8080/",
          "height": 34
        },
        "outputId": "bfe67796-4074-46c1-ff1b-8576ed375fea"
      },
      "source": [
        " list1=[(1,2),(3,4),(5,6),(4,5)]\n",
        "list2=[]\n",
        "for i in list1:\n",
        "    list2.append(i[0]+i[1])\n",
        "    \n",
        "list2"
      ],
      "execution_count": 2,
      "outputs": [
        {
          "output_type": "execute_result",
          "data": {
            "text/plain": [
              "[3, 7, 11, 9]"
            ]
          },
          "metadata": {
            "tags": []
          },
          "execution_count": 2
        }
      ]
    },
    {
      "cell_type": "code",
      "metadata": {
        "id": "P5VFGB_J5_jd",
        "colab_type": "code",
        "colab": {
          "base_uri": "https://localhost:8080/",
          "height": 34
        },
        "outputId": "4653f41e-49a4-4653-e31f-177f107123a9"
      },
      "source": [
        " l=[(1,2,3),[1,2],[\"a\",\"hit\",\"less\"]]\n",
        "l2=l[1]+l[2]\n",
        "l1=list(l[0])\n",
        "l1.append(l2)\n",
        "print(l1)"
      ],
      "execution_count": 4,
      "outputs": [
        {
          "output_type": "stream",
          "text": [
            "[1, 2, 3, [1, 2, 'a', 'hit', 'less']]\n"
          ],
          "name": "stdout"
        }
      ]
    }
  ]
}