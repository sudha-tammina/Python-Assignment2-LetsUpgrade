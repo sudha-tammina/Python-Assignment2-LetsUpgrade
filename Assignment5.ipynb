{
  "nbformat": 4,
  "nbformat_minor": 0,
  "metadata": {
    "colab": {
      "name": "Assignment5.ipynb",
      "provenance": [],
      "collapsed_sections": [],
      "authorship_tag": "ABX9TyNbBmkAiWcN1D4aTmYxRHvI",
      "include_colab_link": true
    },
    "kernelspec": {
      "name": "python3",
      "display_name": "Python 3"
    }
  },
  "cells": [
    {
      "cell_type": "markdown",
      "metadata": {
        "id": "view-in-github",
        "colab_type": "text"
      },
      "source": [
        "<a href=\"https://colab.research.google.com/github/sudha-tammina/Python-Assignment2-LetsUpgrade/blob/master/Assignment5.ipynb\" target=\"_parent\"><img src=\"https://colab.research.google.com/assets/colab-badge.svg\" alt=\"Open In Colab\"/></a>"
      ]
    },
    {
      "cell_type": "code",
      "metadata": {
        "id": "72uxJPWl6j8V",
        "colab_type": "code",
        "colab": {
          "base_uri": "https://localhost:8080/",
          "height": 71
        },
        "outputId": "fbc4f21a-29a9-4f47-f043-cf68e0cbfc24"
      },
      "source": [
        " \n",
        " \n",
        " \n",
        "def pushZerosToEnd(arr, n): \n",
        " \n",
        "    count = 0\n",
        " \n",
        "      \n",
        " \n",
        "    \n",
        " \n",
        "    \n",
        " \n",
        "  \n",
        " \n",
        "   \n",
        " \n",
        "    for i in range(n): \n",
        " \n",
        "        if arr[i] != 0: \n",
        " \n",
        "              \n",
        " \n",
        "            # here count is incremented \n",
        " \n",
        "            arr[count] = arr[i] \n",
        " \n",
        "            count+=1\n",
        " \n",
        "      \n",
        " \n",
        "    \n",
        " \n",
        "     \n",
        " \n",
        "    \n",
        " \n",
        "    while count < n: \n",
        " \n",
        "        arr[count] = 0\n",
        " \n",
        "        count += 1\n",
        " \n",
        "          \n",
        "# Driver code \n",
        " \n",
        "arr = [0,1,2,10,4,1,0,56,2,0,1,3,0,56,0,4]\n",
        " \n",
        " \n",
        "n = len(arr) \n",
        "pushZerosToEnd(arr, n) \n",
        " \n",
        "print(\"Array after pushing all zeros to end of array:\")\n",
        "print(arr)"
      ],
      "execution_count": 8,
      "outputs": [
        {
          "output_type": "stream",
          "text": [
            "Array after pushing all zeros to end of array:\n",
            "[1, 2, 10, 4, 1, 56, 2, 1, 3, 56, 4, 0, 0, 0, 0, 0]\n"
          ],
          "name": "stdout"
        }
      ]
    },
    {
      "cell_type": "code",
      "metadata": {
        "id": "QCTQq9ETBXI5",
        "colab_type": "code",
        "colab": {
          "base_uri": "https://localhost:8080/",
          "height": 191
        },
        "outputId": "c5f67049-d779-4eb3-804b-d4f265fe1c03"
      },
      "source": [
        " a=[]\n",
        "c=[]\n",
        "n1=int(input(\"Enter number of elements:\"))\n",
        "for i in range(1,n1+1):\n",
        "    b=int(input(\"Enter element:\"))\n",
        "    a.append(b)\n",
        "n2=int(input(\"Enter number of elements:\"))\n",
        "for i in range(1,n2+1):\n",
        "    d=int(input(\"Enter element:\"))\n",
        "    c.append(d)\n",
        "new=a+c\n",
        "new.sort()\n",
        "print(\"Sorted list is:\",new)"
      ],
      "execution_count": 7,
      "outputs": [
        {
          "output_type": "stream",
          "text": [
            "Enter number of elements:3\n",
            "Enter element:5\n",
            "Enter element:15\n",
            "Enter element:25\n",
            "Enter number of elements:3\n",
            "Enter element:10\n",
            "Enter element:20\n",
            "Enter element:30\n",
            "Sorted list is: [5, 10, 15, 20, 25, 30]\n"
          ],
          "name": "stdout"
        }
      ]
    }
  ]
}