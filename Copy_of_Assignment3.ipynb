{
  "nbformat": 4,
  "nbformat_minor": 0,
  "metadata": {
    "colab": {
      "name": "Copy of Assignment3.ipynb",
      "provenance": [],
      "collapsed_sections": [],
      "authorship_tag": "ABX9TyPCvR8y6Nw/3KiYLEQWR3Jr",
      "include_colab_link": true
    },
    "kernelspec": {
      "name": "python3",
      "display_name": "Python 3"
    }
  },
  "cells": [
    {
      "cell_type": "markdown",
      "metadata": {
        "id": "view-in-github",
        "colab_type": "text"
      },
      "source": [
        "<a href=\"https://colab.research.google.com/github/sudha-tammina/Python-Assignment2-LetsUpgrade/blob/master/Copy_of_Assignment3.ipynb\" target=\"_parent\"><img src=\"https://colab.research.google.com/assets/colab-badge.svg\" alt=\"Open In Colab\"/></a>"
      ]
    },
    {
      "cell_type": "code",
      "metadata": {
        "id": "pEd4EsPMLElK",
        "colab_type": "code",
        "colab": {
          "base_uri": "https://localhost:8080/",
          "height": 51
        },
        "outputId": "73de6515-0406-415d-fbfa-22ec0f5a54ab"
      },
      "source": [
        " \n",
        "number = int(input(\"Enter any number: \"))\n",
        " \n",
        "# prime number is always greater than 1\n",
        "if number > 1:\n",
        "    for i in range(2, number):\n",
        "        if (number % i) == 0:\n",
        "            print(number, \"is not a prime number\")\n",
        "            break\n",
        "    else:\n",
        "        print(number, \"is a prime number\")\n",
        " \n",
        " \n",
        "else:\n",
        "    print(number, \"is not a prime number\")"
      ],
      "execution_count": null,
      "outputs": [
        {
          "output_type": "stream",
          "text": [
            "Enter any number: 5\n",
            "5 is a prime number\n"
          ],
          "name": "stdout"
        }
      ]
    },
    {
      "cell_type": "code",
      "metadata": {
        "id": "0OMXa8svMAUx",
        "colab_type": "code",
        "colab": {
          "base_uri": "https://localhost:8080/",
          "height": 34
        },
        "outputId": "c9be6575-1729-4507-de7a-7f2200faacca"
      },
      "source": [
        " \n",
        "num = 16\n",
        " \n",
        "if num < 0:\n",
        "   print(\"Enter a positive number\")\n",
        "else:\n",
        "   sum = 0\n",
        "   while(num > 0):\n",
        "       sum += num\n",
        "       num -= 1\n",
        "   print(\"The sum is\", sum)"
      ],
      "execution_count": null,
      "outputs": [
        {
          "output_type": "stream",
          "text": [
            "The sum is 136\n"
          ],
          "name": "stdout"
        }
      ]
    }
  ]
}