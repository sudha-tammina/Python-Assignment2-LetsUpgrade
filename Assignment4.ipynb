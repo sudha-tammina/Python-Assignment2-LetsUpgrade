{
  "nbformat": 4,
  "nbformat_minor": 0,
  "metadata": {
    "colab": {
      "name": "Assignment4.ipynb",
      "provenance": [],
      "collapsed_sections": [],
      "authorship_tag": "ABX9TyP0wdLy/RTQEMK0tGjMHMEM",
      "include_colab_link": true
    },
    "kernelspec": {
      "name": "python3",
      "display_name": "Python 3"
    }
  },
  "cells": [
    {
      "cell_type": "markdown",
      "metadata": {
        "id": "view-in-github",
        "colab_type": "text"
      },
      "source": [
        "<a href=\"https://colab.research.google.com/github/sudha-tammina/Python-Assignment2-LetsUpgrade/blob/master/Assignment4.ipynb\" target=\"_parent\"><img src=\"https://colab.research.google.com/assets/colab-badge.svg\" alt=\"Open In Colab\"/></a>"
      ]
    },
    {
      "cell_type": "code",
      "metadata": {
        "id": "2HAU_xh-vllB",
        "colab_type": "code",
        "colab": {
          "base_uri": "https://localhost:8080/",
          "height": 88
        },
        "outputId": "350d597a-73cc-4c14-9b40-2ad27d6480c7"
      },
      "source": [
        " \n",
        "ini_string='xbzefdgstbzefzexezef'\n",
        " \n",
        "sub_string = 'zef'\n",
        " \n",
        "  \n",
        "# Printing initial string and sub-string \n",
        " \n",
        "print (\"initial_strings : \", ini_string, \"\\nsubstring : \", sub_string) \n",
        " \n",
        "  \n",
        " \n",
        "res = [] \n",
        "# Finding all occurrences of substring \n",
        " \n",
        " \n",
        "res = [i for i in range(len(ini_string))  \n",
        " \n",
        "       if ini_string.startswith(sub_string, i)] \n",
        " \n",
        "  \n",
        "# printing result( \n",
        " \n",
        "print (\"resultant positions\", str(res))"
      ],
      "execution_count": 5,
      "outputs": [
        {
          "output_type": "stream",
          "text": [
            "initial_strings :  xbzefdgstbzefzexezef \n",
            "substring :  zef\n",
            "resultant positions [2, 10, 17]\n"
          ],
          "name": "stdout"
        }
      ]
    },
    {
      "cell_type": "code",
      "metadata": {
        "id": "_Bj46SHt37tl",
        "colab_type": "code",
        "colab": {
          "base_uri": "https://localhost:8080/",
          "height": 68
        },
        "outputId": "efefc515-ad30-48e3-d765-f0262f582da2"
      },
      "source": [
        "string='pythonprogramming'\n",
        "print(string.isupper())\n",
        "print(string.islower())\n",
        "print(string.upper())"
      ],
      "execution_count": 9,
      "outputs": [
        {
          "output_type": "stream",
          "text": [
            "False\n",
            "True\n",
            "PYTHONPROGRAMMING\n"
          ],
          "name": "stdout"
        }
      ]
    },
    {
      "cell_type": "code",
      "metadata": {
        "id": "WsPm8A6e5n8q",
        "colab_type": "code",
        "colab": {
          "base_uri": "https://localhost:8080/",
          "height": 51
        },
        "outputId": "169ad087-69a1-4557-b05d-6ba959014b8e"
      },
      "source": [
        "string='I LOVE INDIA '\n",
        "print(string.isupper())\n",
        "print(string.islower())"
      ],
      "execution_count": 10,
      "outputs": [
        {
          "output_type": "stream",
          "text": [
            "True\n",
            "False\n"
          ],
          "name": "stdout"
        }
      ]
    }
  ]
}